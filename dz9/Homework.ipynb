{
  "nbformat": 4,
  "nbformat_minor": 0,
  "metadata": {
    "colab": {
      "provenance": []
    },
    "kernelspec": {
      "name": "python3",
      "display_name": "Python 3"
    },
    "language_info": {
      "name": "python"
    }
  },
  "cells": [
    {
      "cell_type": "markdown",
      "source": [
        "# **Урок 9. Работа с табличными данными**\n",
        "\n",
        "**Задача 40:**\n",
        " Работать с файлом california_housing_train.csv, который находится в папке sample_data. Определить среднюю стоимость дома, где кол-во людей от 0 до 500 (population).\n",
        "\n",
        "**Задача 42:** Узнать какая максимальная households в зоне минимального значения population."
      ],
      "metadata": {
        "id": "-A_aJcfjXbRs"
      }
    },
    {
      "cell_type": "code",
      "execution_count": null,
      "metadata": {
        "id": "Fvp5T0LeXKTW"
      },
      "outputs": [],
      "source": [
        "import pandas as pd\n",
        "df = pd.read_csv('sample_data/california_housing_train.csv')\n",
        "df.head(n = 10)"
      ]
    },
    {
      "cell_type": "markdown",
      "source": [
        "Задача 40"
      ],
      "metadata": {
        "id": "MP3BeQ0Oayo8"
      }
    },
    {
      "cell_type": "code",
      "source": [
        "df.median_house_value[df['population'] <= 500 ].mean()"
      ],
      "metadata": {
        "colab": {
          "base_uri": "https://localhost:8080/"
        },
        "id": "vzb4p0VcYtCD",
        "outputId": "afb90884-29fd-4100-a908-d5293c0e497e"
      },
      "execution_count": 13,
      "outputs": [
        {
          "output_type": "execute_result",
          "data": {
            "text/plain": [
              "206799.95140186916"
            ]
          },
          "metadata": {},
          "execution_count": 13
        }
      ]
    },
    {
      "cell_type": "markdown",
      "source": [
        "Задача 42"
      ],
      "metadata": {
        "id": "393wLwXGa5Vn"
      }
    },
    {
      "cell_type": "code",
      "source": [
        "df.households[df['population'] == df['population'].min()].max() "
      ],
      "metadata": {
        "colab": {
          "base_uri": "https://localhost:8080/"
        },
        "id": "Ln3zJwHrbOVb",
        "outputId": "3682b478-80ea-495e-f3cd-a2e23c65083d"
      },
      "execution_count": 15,
      "outputs": [
        {
          "output_type": "execute_result",
          "data": {
            "text/plain": [
              "4.0"
            ]
          },
          "metadata": {},
          "execution_count": 15
        }
      ]
    }
  ]
}